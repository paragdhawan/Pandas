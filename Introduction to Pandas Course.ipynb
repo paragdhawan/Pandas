{
 "cells": [
  {
   "cell_type": "markdown",
   "id": "78e9764c",
   "metadata": {},
   "source": [
    "[Introduction to Pandas Micro course Part-1](https://www.youtube.com/watch?v=zyv4dKWdeBs)"
   ]
  },
  {
   "cell_type": "markdown",
   "id": "b53d8e59",
   "metadata": {},
   "source": [
    "[Introduction to Pandas Micro Course Part-2](https://www.youtube.com/watch?v=99MhY4SBMb8)"
   ]
  }
 ],
 "metadata": {
  "kernelspec": {
   "display_name": "Python 3",
   "language": "python",
   "name": "python3"
  },
  "language_info": {
   "codemirror_mode": {
    "name": "ipython",
    "version": 3
   },
   "file_extension": ".py",
   "mimetype": "text/x-python",
   "name": "python",
   "nbconvert_exporter": "python",
   "pygments_lexer": "ipython3",
   "version": "3.8.8"
  }
 },
 "nbformat": 4,
 "nbformat_minor": 5
}
